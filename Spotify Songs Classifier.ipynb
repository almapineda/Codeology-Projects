{
 "cells": [
  {
   "cell_type": "markdown",
   "metadata": {},
   "source": [
    "## Spotify Recommendations\n",
    "\n",
    "### Setting Up"
   ]
  },
  {
   "cell_type": "code",
   "execution_count": 53,
   "metadata": {},
   "outputs": [],
   "source": [
    "import pandas as pd\n",
    "import numpy as np\n",
    "import seaborn as sns\n",
    "import matplotlib.pylab as plt\n",
    "import spotipy\n",
    "from spotipy.oauth2 import SpotifyClientCredentials\n",
    "import spotipy.util as util"
   ]
  },
  {
   "cell_type": "code",
   "execution_count": 54,
   "metadata": {},
   "outputs": [],
   "source": [
    "# Login information\n",
    "client = '7b3849a3f6074c00b4a20694412bf112'\n",
    "secret = '356e59378aa049b2902735c8b3fb9b7f'\n",
    "username = '1217522273'\n",
    "redirect_uri = 'https://developer.spotify.com/dashboard/applications/7b3849a3f6074c00b4a20694412bf112'\n",
    "\n",
    "scope = 'user-library-read playlist-modify-public playlist-read-private'\n",
    "\n",
    "client_credentials_manager = SpotifyClientCredentials(client_id = client, client_secret = secret)\n",
    "sp = spotipy.Spotify(client_credentials_manager = client_credentials_manager)\n",
    "token = util.prompt_for_user_token(username, scope, client, secret, redirect_uri)\n",
    "\n",
    "if token:\n",
    "    sp = spotipy.Spotify(auth = token)\n",
    "else:\n",
    "    print(\"Can't get token for\", username)"
   ]
  },
  {
   "cell_type": "code",
   "execution_count": 55,
   "metadata": {},
   "outputs": [],
   "source": [
    "# Creating recommendation playlists:\n",
    "good_music = 'https://open.spotify.com/user/1217522273/playlist/0Echjbgm3o1g4riN4R4Vy6?si=2HFLIrk_T5SMnitmn2Ifhg'\n",
    "good_playlist_id = '0Echjbgm3o1g4riN4R4Vy6?si=2HFLIrk_T5SMnitmn2Ifhg'\n",
    "good_playlist = sp.user_playlist(username, good_playlist_id)"
   ]
  },
  {
   "cell_type": "code",
   "execution_count": 56,
   "metadata": {},
   "outputs": [],
   "source": [
    "# Creating arrays for ids and track names\n",
    "good_id = []\n",
    "good_trackname = []\n",
    "for i in range(len(good_playlist['tracks']['items'])):\n",
    "    good_id.append(good_playlist[\"tracks\"][\"items\"][i]['track']['id'])\n",
    "    good_trackname.append(good_playlist['tracks']['items'][i]['track']['name'])"
   ]
  },
  {
   "cell_type": "code",
   "execution_count": 57,
   "metadata": {},
   "outputs": [],
   "source": [
    "# Creating array of features for the good playlist\n",
    "good_features = sp.audio_features(good_id)"
   ]
  },
  {
   "cell_type": "code",
   "execution_count": 62,
   "metadata": {},
   "outputs": [],
   "source": [
    "# Creating array for bad playlist\n",
    "bad_music = 'https://open.spotify.com/user/1217522273/playlist/30VxPwqQhI3au8FL51fq4Q?si=_s4Au5dGQF2vKxNxGAfTFw'\n",
    "bad_playlist_id = '30VxPwqQhI3au8FL51fq4Q?si=_s4Au5dGQF2vKxNxGAfTFw'\n",
    "bad_playlist = sp.user_playlist(username, bad_playlist_id)"
   ]
  },
  {
   "cell_type": "code",
   "execution_count": 63,
   "metadata": {},
   "outputs": [],
   "source": [
    "# Creating array of ids and names for the bad playlist\n",
    "bad_id = []\n",
    "bad_trackname = []\n",
    "for i in range(len(bad_playlist['tracks']['items'])):\n",
    "    bad_id.append(bad_playlist[\"tracks\"][\"items\"][i]['track']['id'])\n",
    "    bad_trackname.append(bad_playlist['tracks']['items'][i]['track']['name'])"
   ]
  },
  {
   "cell_type": "code",
   "execution_count": 64,
   "metadata": {},
   "outputs": [],
   "source": [
    "# Creating array of features for the bad playlist\n",
    "bad_features = sp.audio_features(bad_id)"
   ]
  },
  {
   "cell_type": "code",
   "execution_count": null,
   "metadata": {},
   "outputs": [],
   "source": []
  }
 ],
 "metadata": {
  "kernelspec": {
   "display_name": "Python 3",
   "language": "python",
   "name": "python3"
  },
  "language_info": {
   "codemirror_mode": {
    "name": "ipython",
    "version": 3
   },
   "file_extension": ".py",
   "mimetype": "text/x-python",
   "name": "python",
   "nbconvert_exporter": "python",
   "pygments_lexer": "ipython3",
   "version": "3.6.7"
  }
 },
 "nbformat": 4,
 "nbformat_minor": 2
}
